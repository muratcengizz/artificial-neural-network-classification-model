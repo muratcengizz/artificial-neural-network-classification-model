{
 "cells": [
  {
   "cell_type": "markdown",
   "id": "7018dfb8-8ca6-4970-a4ca-ae5ecb3e70dd",
   "metadata": {},
   "source": [
    "# Artificial Neural Network Classification Model"
   ]
  },
  {
   "cell_type": "code",
   "execution_count": 4,
   "id": "ac8759b1-a042-4a85-8caa-4dc773c86361",
   "metadata": {},
   "outputs": [],
   "source": [
    "import numpy as np\n",
    "import pandas as pd\n",
    "import seaborn as sns\n",
    "import matplotlib.pyplot as plt\n",
    "from sklearn.neural_network import MLPClassifier\n",
    "from sklearn.model_selection import train_test_split, GridSearchCV, cross_val_score\n",
    "from sklearn.metrics import accuracy_score\n",
    "from sklearn.feature_extraction.text import TfidfVectorizer"
   ]
  },
  {
   "cell_type": "code",
   "execution_count": 3,
   "id": "c92aa8dc-75ac-432d-8521-6e4b416facdf",
   "metadata": {},
   "outputs": [
    {
     "data": {
      "text/html": [
       "<div>\n",
       "<style scoped>\n",
       "    .dataframe tbody tr th:only-of-type {\n",
       "        vertical-align: middle;\n",
       "    }\n",
       "\n",
       "    .dataframe tbody tr th {\n",
       "        vertical-align: top;\n",
       "    }\n",
       "\n",
       "    .dataframe thead th {\n",
       "        text-align: right;\n",
       "    }\n",
       "</style>\n",
       "<table border=\"1\" class=\"dataframe\">\n",
       "  <thead>\n",
       "    <tr style=\"text-align: right;\">\n",
       "      <th></th>\n",
       "      <th>Hikaye</th>\n",
       "      <th>Etiket</th>\n",
       "    </tr>\n",
       "  </thead>\n",
       "  <tbody>\n",
       "    <tr>\n",
       "      <th>0</th>\n",
       "      <td>Bir gün, uzak bir ülkede yaşayan bir prenses v...</td>\n",
       "      <td>Masal</td>\n",
       "    </tr>\n",
       "    <tr>\n",
       "      <th>1</th>\n",
       "      <td>Ormanda kaybolan bir çocuk, büyülü bir yaratık...</td>\n",
       "      <td>Fantastik</td>\n",
       "    </tr>\n",
       "    <tr>\n",
       "      <th>2</th>\n",
       "      <td>Bir korsan gemisi, hazine avına çıkar ve macer...</td>\n",
       "      <td>Macera</td>\n",
       "    </tr>\n",
       "  </tbody>\n",
       "</table>\n",
       "</div>"
      ],
      "text/plain": [
       "                                              Hikaye     Etiket\n",
       "0  Bir gün, uzak bir ülkede yaşayan bir prenses v...      Masal\n",
       "1  Ormanda kaybolan bir çocuk, büyülü bir yaratık...  Fantastik\n",
       "2  Bir korsan gemisi, hazine avına çıkar ve macer...     Macera"
      ]
     },
     "execution_count": 3,
     "metadata": {},
     "output_type": "execute_result"
    }
   ],
   "source": [
    "# Veri setini oluşturalım.\n",
    "\n",
    "hikayeler = [\n",
    "    \"Bir gün, uzak bir ülkede yaşayan bir prenses varmış...\",\n",
    "    \"Ormanda kaybolan bir çocuk, büyülü bir yaratıkla karşılaşır...\",\n",
    "    \"Bir korsan gemisi, hazine avına çıkar ve maceralarla dolu bir yolculuğa başlar...\",\n",
    "]\n",
    "\n",
    "etiketler = [\"Masal\", \"Fantastik\", \"Macera\"]\n",
    "\n",
    "data = pd.DataFrame({'Hikaye': hikayeler, 'Etiket': etiketler})\n",
    "data.head()"
   ]
  },
  {
   "cell_type": "code",
   "execution_count": 5,
   "id": "091962dc-e33d-4ee4-8f2f-ce45873e8817",
   "metadata": {},
   "outputs": [],
   "source": [
    "# Metin özelliklerini vektörlere dönüştürmek için TF-IDF kullanalım.\n",
    "vectorizer = TfidfVectorizer().fit_transform(data['Hikaye'])"
   ]
  },
  {
   "cell_type": "code",
   "execution_count": 6,
   "id": "71cb288d-7908-48c4-960a-e992daba673b",
   "metadata": {},
   "outputs": [],
   "source": [
    "# Bağımlı ve bağımsız değişkenleri oluşturalım.\n",
    "X = vectorizer\n",
    "\n",
    "# Etiketleri kodlamak için kategorik değişkenlere dönüştürelim.\n",
    "y = pd.factorize(data['Etiket'])[0]"
   ]
  },
  {
   "cell_type": "code",
   "execution_count": 8,
   "id": "499c690b-8b07-457d-9ae9-e5ae3ae04426",
   "metadata": {},
   "outputs": [],
   "source": [
    "# Eğitim ve test setlerini ayıralım.\n",
    "X_train, X_test, y_train, y_test = train_test_split(X, y, test_size=0.2, random_state=42)"
   ]
  },
  {
   "cell_type": "code",
   "execution_count": 10,
   "id": "006d394e-22af-47b3-8704-fc4884d0c3af",
   "metadata": {},
   "outputs": [],
   "source": [
    "# Modeli oluşturalım ve eğitelim.\n",
    "model = MLPClassifier(max_iter=1000).fit(X_train, y_train)"
   ]
  },
  {
   "cell_type": "code",
   "execution_count": 11,
   "id": "d8a36eb0-5581-4615-bac2-35a82376642f",
   "metadata": {},
   "outputs": [],
   "source": [
    "# Tahmin yapalım.\n",
    "prediction = model.predict(X_test)"
   ]
  },
  {
   "cell_type": "code",
   "execution_count": 12,
   "id": "31a91c27-260b-40da-905e-d9b4d9f11f5a",
   "metadata": {},
   "outputs": [
    {
     "name": "stdout",
     "output_type": "stream",
     "text": [
      "Accuracy Score:  0.0\n"
     ]
    }
   ],
   "source": [
    "# Modeli Değerlendirelim.\n",
    "accuracy = accuracy_score(y_test, prediction)\n",
    "print('Accuracy Score: ', accuracy)"
   ]
  },
  {
   "cell_type": "code",
   "execution_count": 18,
   "id": "8b9c8b79-3a0c-4cf5-9a8c-2e535ecf8a1f",
   "metadata": {},
   "outputs": [
    {
     "name": "stdout",
     "output_type": "stream",
     "text": [
      "Accuracy Score:  0.0\n",
      "Accuracy Score:  0.0\n",
      "Accuracy Score:  0.0\n"
     ]
    }
   ],
   "source": [
    "# Model Tuning\n",
    "scores = []\n",
    "models = [\n",
    "    MLPClassifier(hidden_layer_sizes=(64,), activation='relu', alpha=0.0001, max_iter=500),\n",
    "    MLPClassifier(hidden_layer_sizes=(128,), activation='tanh', alpha=0.001, max_iter=800),\n",
    "    MLPClassifier(hidden_layer_sizes=(64, 32), activation='relu', alpha=0.01, max_iter=1000),\n",
    "    \n",
    "]\n",
    "\n",
    "for model in models:\n",
    "    model = model.fit(X_train, y_train)\n",
    "    y_pred = model.predict(X_test)\n",
    "    accuracy = accuracy_score(y_test, y_pred)\n",
    "    print('Accuracy Score: ', accuracy)"
   ]
  }
 ],
 "metadata": {
  "kernelspec": {
   "display_name": "Python 3 (ipykernel)",
   "language": "python",
   "name": "python3"
  },
  "language_info": {
   "codemirror_mode": {
    "name": "ipython",
    "version": 3
   },
   "file_extension": ".py",
   "mimetype": "text/x-python",
   "name": "python",
   "nbconvert_exporter": "python",
   "pygments_lexer": "ipython3",
   "version": "3.9.12"
  }
 },
 "nbformat": 4,
 "nbformat_minor": 5
}
